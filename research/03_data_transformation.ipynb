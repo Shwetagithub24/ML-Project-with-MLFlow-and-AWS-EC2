{
 "cells": [
  {
   "cell_type": "code",
   "execution_count": 13,
   "metadata": {},
   "outputs": [],
   "source": [
    "import os"
   ]
  },
  {
   "cell_type": "code",
   "execution_count": 14,
   "metadata": {},
   "outputs": [
    {
     "data": {
      "text/plain": [
       "'c:\\\\Users\\\\shwet\\\\Documents\\\\CV and applications\\\\Projects\\\\ML Project with MLFlow and AWS EC2\\\\ML-Project-with-MLFlow-and-AWS-EC2'"
      ]
     },
     "execution_count": 14,
     "metadata": {},
     "output_type": "execute_result"
    }
   ],
   "source": [
    "%pwd"
   ]
  },
  {
   "cell_type": "code",
   "execution_count": 15,
   "metadata": {},
   "outputs": [],
   "source": [
    "os.chdir('../')"
   ]
  },
  {
   "cell_type": "code",
   "execution_count": 16,
   "metadata": {},
   "outputs": [
    {
     "data": {
      "text/plain": [
       "'c:\\\\Users\\\\shwet\\\\Documents\\\\CV and applications\\\\Projects\\\\ML Project with MLFlow and AWS EC2'"
      ]
     },
     "execution_count": 16,
     "metadata": {},
     "output_type": "execute_result"
    }
   ],
   "source": [
    "%pwd"
   ]
  },
  {
   "cell_type": "markdown",
   "metadata": {},
   "source": [
    "1. Update config.yaml in config folder\n",
    "2. Update schema.yaml\n",
    "3. Update params.yaml  \n",
    "4. Update the entity\n",
    "5. Update the configuration manager in src config\n",
    "6. Update the components\n",
    "7. Update the pipeline \n",
    "8. Update the main.py\n",
    "9. Update the app.py"
   ]
  },
  {
   "cell_type": "markdown",
   "metadata": {},
   "source": [
    "# Entity"
   ]
  },
  {
   "cell_type": "code",
   "execution_count": 17,
   "metadata": {},
   "outputs": [],
   "source": [
    "from dataclasses import dataclass\n",
    "from pathlib import Path\n",
    "\n",
    "@dataclass(frozen=True)\n",
    "class DataTransformationConfig:\n",
    "    root_dir: Path\n",
    "    data_path: Path"
   ]
  },
  {
   "cell_type": "markdown",
   "metadata": {},
   "source": [
    "# Configuration Manager"
   ]
  },
  {
   "cell_type": "code",
   "execution_count": 18,
   "metadata": {},
   "outputs": [],
   "source": [
    "from mlProject.constants import *\n",
    "from mlProject.utils.common import read_yaml,create_directories\n",
    "from pathlib import Path\n",
    "\n",
    "CONFIG_FILE_PATH = Path(\"C:\\\\Users\\\\shwet\\\\Documents\\\\CV and applications\\\\Projects\\\\ML Project with MLFlow and AWS EC2\\\\ML-Project-with-MLFlow-and-AWS-EC2\\\\config\\\\config.yaml\")\n",
    "PARAMS_FILE_PATH = Path(\"C:\\\\Users\\\\shwet\\\\Documents\\\\CV and applications\\\\Projects\\\\ML Project with MLFlow and AWS EC2\\\\ML-Project-with-MLFlow-and-AWS-EC2\\\\params.yaml\")\n",
    "SCHEMA_FILE_PATH = Path(\"C:\\\\Users\\\\shwet\\\\Documents\\\\CV and applications\\\\Projects\\\\ML Project with MLFlow and AWS EC2\\\\ML-Project-with-MLFlow-and-AWS-EC2\\\\schema.yaml\")"
   ]
  },
  {
   "cell_type": "code",
   "execution_count": 19,
   "metadata": {},
   "outputs": [],
   "source": [
    "class ConfigurationManager:\n",
    "    def __init__(\n",
    "        self,\n",
    "        config_filepath=CONFIG_FILE_PATH,\n",
    "        params_filepath=PARAMS_FILE_PATH,\n",
    "        schema_filepath=SCHEMA_FILE_PATH,\n",
    "    ):\n",
    "        self.config = read_yaml(config_filepath)\n",
    "        self.params = read_yaml(params_filepath)\n",
    "        self.schema = read_yaml(schema_filepath)\n",
    "\n",
    "        # Check for required keys\n",
    "        if \"data_validation\" not in self.config:\n",
    "            raise KeyError(\"The key 'data_validation' is missing in the configuration file.\")\n",
    "\n",
    "        create_directories([self.config.artifacts_root])\n",
    "\n",
    "    def get_data_transformation_config(self) -> DataTransformationConfig:\n",
    "        config = self.config.data_transformation\n",
    "    \n",
    "\n",
    "        create_directories([config.root_dir])\n",
    "\n",
    "        data_transformation_config = DataTransformationConfig(\n",
    "            root_dir=config.root_dir,\n",
    "            data_path=config.data_path,\n",
    "        )\n",
    "\n",
    "        return data_transformation_config\n"
   ]
  },
  {
   "cell_type": "markdown",
   "metadata": {},
   "source": [
    "# Components"
   ]
  },
  {
   "cell_type": "code",
   "execution_count": 20,
   "metadata": {},
   "outputs": [],
   "source": [
    "import os\n",
    "from mlProject import logger\n",
    "from sklearn.model_selection import train_test_split\n",
    "import pandas as pd\n",
    "\n",
    "class DataTransformation:\n",
    "    def __init__(self,config: DataTransformationConfig):\n",
    "        self.config = config\n",
    "\n",
    "        # Train Test Split\n",
    "    def train_test_split(self):\n",
    "        data = pd.read_csv(self.config.data_path)\n",
    "\n",
    "        train,test = train_test_split(data)\n",
    "\n",
    "        train.to_csv(os.path.join(self.config.root_dir,\"train.csv\"), index=False)\n",
    "        test.to_csv(os.path.join(self.config.root_dir,\"test.csv\"), index=False)\n",
    "\n",
    "        logger.info(\"Splited Data into Training and test set\")\n",
    "        logger.info(train.shape)\n",
    "        logger.info(test.shape)\n",
    "\n",
    "        print(train.shape)\n",
    "        print(test.shape)\n",
    "\n"
   ]
  },
  {
   "cell_type": "markdown",
   "metadata": {},
   "source": [
    "# Pipeline"
   ]
  },
  {
   "cell_type": "code",
   "execution_count": 21,
   "metadata": {},
   "outputs": [
    {
     "name": "stdout",
     "output_type": "stream",
     "text": [
      "[2025-01-15 18:44:19,139: INFO: common: yaml file: C:\\Users\\shwet\\Documents\\CV and applications\\Projects\\ML Project with MLFlow and AWS EC2\\ML-Project-with-MLFlow-and-AWS-EC2\\config\\config.yaml loaded successfully]\n",
      "[2025-01-15 18:44:19,143: INFO: common: yaml file: C:\\Users\\shwet\\Documents\\CV and applications\\Projects\\ML Project with MLFlow and AWS EC2\\ML-Project-with-MLFlow-and-AWS-EC2\\params.yaml loaded successfully]\n",
      "[2025-01-15 18:44:19,149: INFO: common: yaml file: C:\\Users\\shwet\\Documents\\CV and applications\\Projects\\ML Project with MLFlow and AWS EC2\\ML-Project-with-MLFlow-and-AWS-EC2\\schema.yaml loaded successfully]\n",
      "[2025-01-15 18:44:19,152: INFO: common: created directory at: artifacts]\n",
      "[2025-01-15 18:44:19,155: INFO: common: created directory at: artifacts/data_transformation]\n",
      "[2025-01-15 18:44:19,205: INFO: 3056573779: Splited Data into Training and test set]\n",
      "[2025-01-15 18:44:19,207: INFO: 3056573779: (1199, 12)]\n",
      "[2025-01-15 18:44:19,209: INFO: 3056573779: (400, 12)]\n",
      "(1199, 12)\n",
      "(400, 12)\n"
     ]
    }
   ],
   "source": [
    "try:\n",
    "    config = ConfigurationManager()\n",
    "    data_transformation_config = config.get_data_transformation_config()\n",
    "    data_transformation = DataTransformation(config=data_transformation_config)\n",
    "    data_transformation.train_test_split()\n",
    "except Exception as e:\n",
    "    raise e\n",
    "                                       "
   ]
  }
 ],
 "metadata": {
  "kernelspec": {
   "display_name": "newenv",
   "language": "python",
   "name": "python3"
  },
  "language_info": {
   "codemirror_mode": {
    "name": "ipython",
    "version": 3
   },
   "file_extension": ".py",
   "mimetype": "text/x-python",
   "name": "python",
   "nbconvert_exporter": "python",
   "pygments_lexer": "ipython3",
   "version": "3.10.15"
  }
 },
 "nbformat": 4,
 "nbformat_minor": 2
}
