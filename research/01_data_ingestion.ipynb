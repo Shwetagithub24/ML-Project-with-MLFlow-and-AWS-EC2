{
 "cells": [
  {
   "cell_type": "code",
   "execution_count": 291,
   "metadata": {},
   "outputs": [],
   "source": [
    "import os\n"
   ]
  },
  {
   "cell_type": "code",
   "execution_count": 292,
   "metadata": {},
   "outputs": [
    {
     "data": {
      "text/plain": [
       "'C:\\\\Users\\\\shwet\\\\Documents\\\\CV and applications\\\\Projects\\\\ML Project with MLFlow and AWS EC2\\\\ML-Project-with-MLFlow-and-AWS-EC2'"
      ]
     },
     "execution_count": 292,
     "metadata": {},
     "output_type": "execute_result"
    }
   ],
   "source": [
    "%pwd"
   ]
  },
  {
   "cell_type": "code",
   "execution_count": 293,
   "metadata": {},
   "outputs": [],
   "source": [
    "os.chdir(\"../\")"
   ]
  },
  {
   "cell_type": "code",
   "execution_count": 294,
   "metadata": {},
   "outputs": [
    {
     "data": {
      "text/plain": [
       "'C:\\\\Users\\\\shwet\\\\Documents\\\\CV and applications\\\\Projects\\\\ML Project with MLFlow and AWS EC2'"
      ]
     },
     "execution_count": 294,
     "metadata": {},
     "output_type": "execute_result"
    }
   ],
   "source": [
    "%pwd"
   ]
  },
  {
   "cell_type": "code",
   "execution_count": 295,
   "metadata": {},
   "outputs": [],
   "source": [
    "#os.chdir(\"c:\\\\Users\\\\shwet\\\\Documents\\\\CV and applications\\\\Projects\\\\ML Project with MLFlow and AWS EC2\")\n",
    "os.chdir(\"C:\\\\Users\\\\shwet\\\\Documents\\\\CV and applications\\\\Projects\\\\ML Project with MLFlow and AWS EC2\\\\ML-Project-with-MLFlow-and-AWS-EC2\")"
   ]
  },
  {
   "cell_type": "code",
   "execution_count": 296,
   "metadata": {},
   "outputs": [
    {
     "data": {
      "text/plain": [
       "'C:\\\\Users\\\\shwet\\\\Documents\\\\CV and applications\\\\Projects\\\\ML Project with MLFlow and AWS EC2\\\\ML-Project-with-MLFlow-and-AWS-EC2'"
      ]
     },
     "execution_count": 296,
     "metadata": {},
     "output_type": "execute_result"
    }
   ],
   "source": [
    "%pwd"
   ]
  },
  {
   "cell_type": "code",
   "execution_count": 297,
   "metadata": {},
   "outputs": [
    {
     "name": "stdout",
     "output_type": "stream",
     "text": [
      " Volume in drive C is OS\n",
      " Volume Serial Number is 9C0D-DA84\n",
      "\n",
      " Directory of C:\\Users\\shwet\\Documents\\CV and applications\\Projects\\ML Project with MLFlow and AWS EC2\\ML-Project-with-MLFlow-and-AWS-EC2\n",
      "\n",
      "15-01-2025  15:34    <DIR>          .\n",
      "15-01-2025  15:41    <DIR>          ..\n",
      "14-01-2025  22:08    <DIR>          .github\n",
      "14-01-2025  21:42             3,586 .gitignore\n",
      "14-01-2025  22:11                 0 app.py\n",
      "15-01-2025  15:34    <DIR>          artifacts\n",
      "14-01-2025  22:08    <DIR>          config\n",
      "14-01-2025  22:11                 0 Dockerfile\n",
      "15-01-2025  13:22    <DIR>          logs\n",
      "14-01-2025  22:11                 0 main.py\n",
      "15-01-2025  15:34                 8 params.yaml\n",
      "15-01-2025  12:56               314 README.md\n",
      "14-01-2025  22:24               196 requirements.txt\n",
      "15-01-2025  12:56    <DIR>          research\n",
      "15-01-2025  15:34                20 schema.yaml\n",
      "14-01-2025  22:24               935 setup.py\n",
      "14-01-2025  22:24    <DIR>          src\n",
      "14-01-2025  22:11             1,617 template.py\n",
      "14-01-2025  22:08    <DIR>          templates\n",
      "14-01-2025  22:11                 0 test.py\n",
      "              11 File(s)          6,676 bytes\n",
      "               9 Dir(s)  69,223,616,512 bytes free\n"
     ]
    }
   ],
   "source": [
    "ls"
   ]
  },
  {
   "cell_type": "markdown",
   "metadata": {},
   "source": [
    "### Update Entity (Return Type of variables mentioned in config.yaml)"
   ]
  },
  {
   "cell_type": "code",
   "execution_count": 298,
   "metadata": {},
   "outputs": [],
   "source": [
    "from dataclasses import dataclass\n",
    "from pathlib import Path\n",
    "\n",
    "@dataclass(frozen=True)\n",
    "class DataIngestionConfig:\n",
    "    root_dir: Path\n",
    "    source_URL: str\n",
    "    local_data_file: Path\n",
    "    unzip_dir: Path"
   ]
  },
  {
   "cell_type": "markdown",
   "metadata": {},
   "source": [
    "### To read config, params, schema files"
   ]
  },
  {
   "cell_type": "code",
   "execution_count": 299,
   "metadata": {},
   "outputs": [],
   "source": [
    "from mlProject.constants import *\n",
    "from mlProject.utils.common import read_yaml,create_directories\n",
    "from mlProject.config import *\n",
    "\n"
   ]
  },
  {
   "cell_type": "markdown",
   "metadata": {},
   "source": [
    "### Update Configuration manager"
   ]
  },
  {
   "cell_type": "code",
   "execution_count": 300,
   "metadata": {},
   "outputs": [],
   "source": [
    "from pathlib import Path\n",
    "\n",
    "CONFIG_FILE_PATH = Path(\"C:\\\\Users\\\\shwet\\\\Documents\\\\CV and applications\\\\Projects\\\\ML Project with MLFlow and AWS EC2\\\\ML-Project-with-MLFlow-and-AWS-EC2\\\\config\\\\config.yaml\")\n",
    "PARAMS_FILE_PATH = Path(\"params.yaml\")\n",
    "SCHEMA_FILE_PATH = Path(\"schema.yaml\")"
   ]
  },
  {
   "cell_type": "code",
   "execution_count": 301,
   "metadata": {},
   "outputs": [],
   "source": [
    "class ConfigurationManager:\n",
    "    def __init__(\n",
    "        self,\n",
    "        config_filepath = CONFIG_FILE_PATH,\n",
    "        params_filepath = PARAMS_FILE_PATH,\n",
    "        schema_filepath = SCHEMA_FILE_PATH):\n",
    "\n",
    "        self.config = read_yaml(config_filepath)\n",
    "        self.params = read_yaml(params_filepath)\n",
    "        self.schema = read_yaml(schema_filepath)\n",
    "\n",
    "        create_directories([self.config.artifacts_root])\n",
    "\n",
    "\n",
    "    \n",
    "    def get_data_ingestion_config(self) -> DataIngestionConfig:\n",
    "        config = self.config.data_ingestion\n",
    "\n",
    "        create_directories([config.root_dir])\n",
    "\n",
    "        data_ingestion_config = DataIngestionConfig(\n",
    "            root_dir=config.root_dir,\n",
    "            source_URL=config.source_URL,\n",
    "            local_data_file=config.local_data_file,\n",
    "            unzip_dir=config.unzip_dir \n",
    "        )\n",
    "\n",
    "        return data_ingestion_config"
   ]
  },
  {
   "cell_type": "markdown",
   "metadata": {},
   "source": [
    "## Update Data Ingestion Component"
   ]
  },
  {
   "cell_type": "code",
   "execution_count": 302,
   "metadata": {},
   "outputs": [
    {
     "name": "stdout",
     "output_type": "stream",
     "text": [
      "['Any', 'BoxValueError', 'ConfigBox', 'Path', '__builtins__', '__cached__', '__doc__', '__file__', '__loader__', '__name__', '__package__', '__spec__', 'create_directories', 'ensure_annotations', 'get_size', 'joblib', 'json', 'load_bin', 'load_json', 'logger', 'os', 'read_yaml', 'save_bin', 'save_json', 'yaml']\n"
     ]
    }
   ],
   "source": [
    "import mlProject.utils.common\n",
    "print(dir(mlProject.utils.common))\n"
   ]
  },
  {
   "cell_type": "code",
   "execution_count": 303,
   "metadata": {},
   "outputs": [
    {
     "data": {
      "text/plain": [
       "<module 'mlProject.utils.common' from 'c:\\\\users\\\\shwet\\\\documents\\\\cv and applications\\\\projects\\\\ml project with mlflow and aws ec2\\\\ml-project-with-mlflow-and-aws-ec2\\\\src\\\\mlProject\\\\utils\\\\common.py'>"
      ]
     },
     "execution_count": 303,
     "metadata": {},
     "output_type": "execute_result"
    }
   ],
   "source": [
    "from importlib import reload\n",
    "import mlProject.utils.common\n",
    "reload(mlProject.utils.common)\n"
   ]
  },
  {
   "cell_type": "code",
   "execution_count": 304,
   "metadata": {},
   "outputs": [],
   "source": [
    "import os\n",
    "import urllib.request as request\n",
    "import zipfile\n",
    "from mlProject import logger\n",
    "from mlProject.utils.common import get_size\n",
    "\n"
   ]
  },
  {
   "cell_type": "code",
   "execution_count": 305,
   "metadata": {},
   "outputs": [],
   "source": [
    "# it will create Data ingestion directory and download data\n",
    "class DataIngestion:\n",
    "    def __init__(self, config: DataIngestionConfig):\n",
    "        self.config = config\n",
    "\n",
    "\n",
    "    \n",
    "    def download_file(self):\n",
    "        if not os.path.exists(self.config.local_data_file):\n",
    "            filename, headers = request.urlretrieve(\n",
    "                url = self.config.source_URL,\n",
    "                filename = self.config.local_data_file\n",
    "            )\n",
    "            logger.info(f\"{filename} download! with following info: \\n{headers}\")\n",
    "        else:\n",
    "            logger.info(f\"File already exists of size: {get_size(Path(self.config.local_data_file))}\")\n",
    "\n",
    "\n",
    "\n",
    "    def extract_zip_file(self):\n",
    "        \"\"\"\n",
    "        zip_file_path: str\n",
    "        Extracts the zip file into the data directory\n",
    "        Function returns None\n",
    "        \"\"\"\n",
    "        unzip_path = self.config.unzip_dir\n",
    "        os.makedirs(unzip_path, exist_ok=True)\n",
    "        with zipfile.ZipFile(self.config.local_data_file, 'r') as zip_ref:\n",
    "            zip_ref.extractall(unzip_path)\n",
    "  \n",
    "    "
   ]
  },
  {
   "cell_type": "markdown",
   "metadata": {},
   "source": [
    "## Create Pipeline"
   ]
  },
  {
   "cell_type": "code",
   "execution_count": 306,
   "metadata": {},
   "outputs": [
    {
     "name": "stdout",
     "output_type": "stream",
     "text": [
      "[2025-01-15 16:00:09,125: INFO: common: yaml file: C:\\Users\\shwet\\Documents\\CV and applications\\Projects\\ML Project with MLFlow and AWS EC2\\ML-Project-with-MLFlow-and-AWS-EC2\\config\\config.yaml loaded successfully]\n",
      "[2025-01-15 16:00:09,130: INFO: common: yaml file: params.yaml loaded successfully]\n",
      "[2025-01-15 16:00:09,133: INFO: common: yaml file: schema.yaml loaded successfully]\n",
      "[2025-01-15 16:00:09,136: INFO: common: created directory at: artifacts]\n",
      "[2025-01-15 16:00:09,139: INFO: common: created directory at: artifacts/data_ingestion]\n",
      "[2025-01-15 16:00:09,142: INFO: 112280761: File already exists of size: ~ 25 KB]\n"
     ]
    }
   ],
   "source": [
    "try:\n",
    "    config= ConfigurationManager()\n",
    "    data_ingestion_config = config.get_data_ingestion_config()\n",
    "    data_ingestion = DataIngestion(config=data_ingestion_config)\n",
    "    data_ingestion.download_file()\n",
    "    data_ingestion.extract_zip_file()\n",
    "except Exception as e:\n",
    "    raise e\n",
    "    "
   ]
  }
 ],
 "metadata": {
  "kernelspec": {
   "display_name": "newenv",
   "language": "python",
   "name": "python3"
  },
  "language_info": {
   "codemirror_mode": {
    "name": "ipython",
    "version": 3
   },
   "file_extension": ".py",
   "mimetype": "text/x-python",
   "name": "python",
   "nbconvert_exporter": "python",
   "pygments_lexer": "ipython3",
   "version": "3.10.15"
  }
 },
 "nbformat": 4,
 "nbformat_minor": 2
}
